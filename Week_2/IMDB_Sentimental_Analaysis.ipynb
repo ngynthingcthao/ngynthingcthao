{
 "cells": [
  {
   "cell_type": "markdown",
   "id": "52ad6098",
   "metadata": {},
   "source": [
    "# Cài đặt thư viện"
   ]
  },
  {
   "cell_type": "code",
   "execution_count": 22,
   "id": "27e85f2c",
   "metadata": {},
   "outputs": [],
   "source": [
    "import numpy as np\n",
    "import pandas as pd\n",
    "import tensorflow as tf\n",
    "from tensorflow.keras.models import Sequential\n",
    "from tensorflow.keras.layers import Dense, Embedding, LSTM, Bidirectional, Dropout\n",
    "from tensorflow.keras.callbacks import EarlyStopping\n",
    "from sklearn.model_selection import train_test_split\n",
    "from tensorflow.keras.preprocessing.text import Tokenizer\n",
    "from tensorflow.keras.preprocessing.sequence import pad_sequences\n",
    "from tensorflow.keras.callbacks import EarlyStopping\n",
    "import tensorflow"
   ]
  },
  {
   "cell_type": "markdown",
   "id": "3e0b3902",
   "metadata": {},
   "source": [
    "# Data Downloading"
   ]
  },
  {
   "cell_type": "code",
   "execution_count": 2,
   "id": "f21a0502",
   "metadata": {},
   "outputs": [
    {
     "name": "stderr",
     "output_type": "stream",
     "text": [
      "Downloading...\n",
      "From: https://drive.google.com/uc?id=1FyX7UavGoqU28I_2owXy8KM4HCTXOql2\n",
      "To: c:\\Users\\Hello!!!\\Documents\\thuc-hanh-deep-learning\\Week_2\\IMDB_Dataset\n",
      "100%|██████████| 66.2M/66.2M [00:01<00:00, 37.2MB/s]\n"
     ]
    },
    {
     "data": {
      "text/plain": [
       "'IMDB_Dataset'"
      ]
     },
     "execution_count": 2,
     "metadata": {},
     "output_type": "execute_result"
    }
   ],
   "source": [
    "import gdown\n",
    "gdown.download(f'https://drive.google.com/uc?id=1FyX7UavGoqU28I_2owXy8KM4HCTXOql2', output = 'IMDB_Dataset', quiet= False, fuzzy= False)"
   ]
  },
  {
   "cell_type": "markdown",
   "id": "764c6b0f",
   "metadata": {},
   "source": [
    "# Data Pre-Processing"
   ]
  },
  {
   "cell_type": "code",
   "execution_count": 5,
   "id": "d4fc6c4f",
   "metadata": {},
   "outputs": [
    {
     "data": {
      "text/html": [
       "<div>\n",
       "<style scoped>\n",
       "    .dataframe tbody tr th:only-of-type {\n",
       "        vertical-align: middle;\n",
       "    }\n",
       "\n",
       "    .dataframe tbody tr th {\n",
       "        vertical-align: top;\n",
       "    }\n",
       "\n",
       "    .dataframe thead th {\n",
       "        text-align: right;\n",
       "    }\n",
       "</style>\n",
       "<table border=\"1\" class=\"dataframe\">\n",
       "  <thead>\n",
       "    <tr style=\"text-align: right;\">\n",
       "      <th></th>\n",
       "      <th>review</th>\n",
       "      <th>sentiment</th>\n",
       "    </tr>\n",
       "  </thead>\n",
       "  <tbody>\n",
       "    <tr>\n",
       "      <th>0</th>\n",
       "      <td>One of the other reviewers has mentioned that ...</td>\n",
       "      <td>positive</td>\n",
       "    </tr>\n",
       "    <tr>\n",
       "      <th>1</th>\n",
       "      <td>A wonderful little production. &lt;br /&gt;&lt;br /&gt;The...</td>\n",
       "      <td>positive</td>\n",
       "    </tr>\n",
       "    <tr>\n",
       "      <th>2</th>\n",
       "      <td>I thought this was a wonderful way to spend ti...</td>\n",
       "      <td>positive</td>\n",
       "    </tr>\n",
       "    <tr>\n",
       "      <th>3</th>\n",
       "      <td>Basically there's a family where a little boy ...</td>\n",
       "      <td>negative</td>\n",
       "    </tr>\n",
       "    <tr>\n",
       "      <th>4</th>\n",
       "      <td>Petter Mattei's \"Love in the Time of Money\" is...</td>\n",
       "      <td>positive</td>\n",
       "    </tr>\n",
       "  </tbody>\n",
       "</table>\n",
       "</div>"
      ],
      "text/plain": [
       "                                              review sentiment\n",
       "0  One of the other reviewers has mentioned that ...  positive\n",
       "1  A wonderful little production. <br /><br />The...  positive\n",
       "2  I thought this was a wonderful way to spend ti...  positive\n",
       "3  Basically there's a family where a little boy ...  negative\n",
       "4  Petter Mattei's \"Love in the Time of Money\" is...  positive"
      ]
     },
     "execution_count": 5,
     "metadata": {},
     "output_type": "execute_result"
    }
   ],
   "source": [
    "data = pd.read_csv('IMDB_Dataset')\n",
    "data.head()"
   ]
  },
  {
   "cell_type": "code",
   "execution_count": 6,
   "id": "a04eebd1",
   "metadata": {},
   "outputs": [
    {
     "name": "stdout",
     "output_type": "stream",
     "text": [
      "sentiment\n",
      "positive    25000\n",
      "negative    25000\n",
      "Name: count, dtype: int64\n"
     ]
    }
   ],
   "source": [
    "print(data['sentiment'].value_counts())"
   ]
  },
  {
   "cell_type": "code",
   "execution_count": 7,
   "id": "566d0af7",
   "metadata": {},
   "outputs": [
    {
     "name": "stderr",
     "output_type": "stream",
     "text": [
      "C:\\Users\\Hello!!!\\AppData\\Local\\Temp\\ipykernel_18536\\3298220320.py:1: FutureWarning: Downcasting behavior in `replace` is deprecated and will be removed in a future version. To retain the old behavior, explicitly call `result.infer_objects(copy=False)`. To opt-in to the future behavior, set `pd.set_option('future.no_silent_downcasting', True)`\n",
      "  data.replace({'sentiment': {'positive': 1, 'negative': 0}}, inplace= True)\n"
     ]
    }
   ],
   "source": [
    "data.replace({'sentiment': {'positive': 1, 'negative': 0}}, inplace= True)"
   ]
  },
  {
   "cell_type": "code",
   "execution_count": 10,
   "id": "859b059a",
   "metadata": {},
   "outputs": [],
   "source": [
    "data_samples = data[:10000]\n",
    "train_data, test_data = train_test_split(data_samples, test_size= 0.5, random_state= 42)"
   ]
  },
  {
   "cell_type": "code",
   "execution_count": 11,
   "id": "70530baf",
   "metadata": {},
   "outputs": [
    {
     "name": "stdout",
     "output_type": "stream",
     "text": [
      "sentiment\n",
      "1    2557\n",
      "0    2443\n",
      "Name: count, dtype: int64\n",
      "sentiment\n",
      "0    2529\n",
      "1    2471\n",
      "Name: count, dtype: int64\n"
     ]
    }
   ],
   "source": [
    "# Kiểm tra dữ liệu có cân bằng chưa => Ta thấy sự chênh lệch của nhãn 0 và 1 không nhiều nên không cần áp dụng các kỹ thuật cân bằng dữ liệu\n",
    "print(train_data['sentiment'].value_counts())\n",
    "print(test_data['sentiment'].value_counts())"
   ]
  },
  {
   "cell_type": "code",
   "execution_count": 16,
   "id": "9edb4737",
   "metadata": {},
   "outputs": [],
   "source": [
    "tokenizer = Tokenizer(num_words = 5000)\n",
    "tokenizer.fit_on_texts(train_data['review'])\n",
    "X_train = pad_sequences(tokenizer.texts_to_sequences(train_data['review']), maxlen= 500)\n",
    "X_test = pad_sequences(tokenizer.texts_to_sequences(test_data['review']), maxlen= 500)"
   ]
  },
  {
   "cell_type": "code",
   "execution_count": 17,
   "id": "a3e3866b",
   "metadata": {},
   "outputs": [],
   "source": [
    "Y_train = train_data['sentiment']\n",
    "Y_test = test_data['sentiment']"
   ]
  },
  {
   "cell_type": "markdown",
   "id": "75dcefd9",
   "metadata": {},
   "source": [
    "# Building to Model"
   ]
  },
  {
   "cell_type": "code",
   "execution_count": 18,
   "id": "92110e7a",
   "metadata": {},
   "outputs": [],
   "source": [
    "def build_model(hidden_layers, neurons_per_layer, activation, dropout_rate,\n",
    "                optimizer, learning_rate, embedding_dim=100):\n",
    "    model = Sequential()\n",
    "\n",
    "    # Embedding layer\n",
    "    model.add(Embedding(input_dim= 5000, output_dim= 128, input_length=500))\n",
    "\n",
    "    # Hidden layers\n",
    "    for i in range(hidden_layers):\n",
    "        if i == 0:\n",
    "            model.add(Bidirectional(LSTM(neurons_per_layer, return_sequences=(hidden_layers > 1))))\n",
    "        elif i == hidden_layers - 1:\n",
    "            model.add(Bidirectional(LSTM(neurons_per_layer)))\n",
    "        else:\n",
    "            model.add(Bidirectional(LSTM(neurons_per_layer, return_sequences=True)))\n",
    "\n",
    "        # Add dropout after each LSTM layer\n",
    "        model.add(Dropout(dropout_rate))\n",
    "\n",
    "    # Output layer\n",
    "    model.add(Dense(1, activation='sigmoid'))\n",
    "\n",
    "    # Compile model\n",
    "    if optimizer.lower() == 'adam':\n",
    "        opt = tensorflow.keras.optimizers.Adam(learning_rate=learning_rate)\n",
    "    elif optimizer.lower() == 'rmsprop':\n",
    "        opt = tensorflow.keras.optimizers.RMSprop(learning_rate=learning_rate)\n",
    "    elif optimizer.lower() == 'sgd':\n",
    "        opt = tensorflow.keras.optimizers.SGD(learning_rate=learning_rate)\n",
    "\n",
    "    model.compile(optimizer=opt, loss='binary_crossentropy', metrics=['accuracy'])\n",
    "\n",
    "    return model"
   ]
  },
  {
   "cell_type": "markdown",
   "id": "683f2e8c",
   "metadata": {},
   "source": [
    "# Setting Hypermeters"
   ]
  },
  {
   "cell_type": "code",
   "execution_count": null,
   "id": "6d3c1432",
   "metadata": {},
   "outputs": [],
   "source": [
    "configs = [\n",
    "      {\n",
    "        'name': 'No.1',\n",
    "        'batch_size': 64,\n",
    "        'learning_rate': 0.001,\n",
    "        'hidden_layers': 1,\n",
    "        'neurons_per_layer': 64,\n",
    "        'activation': 'relu',\n",
    "        'dropout_rate': 0.1,\n",
    "        'optimizer': 'rmsprop',\n",
    "        'epochs': 5\n",
    "    },\n",
    "    {\n",
    "        'name': 'No.2',\n",
    "        'batch_size': 128,\n",
    "        'learning_rate': 0.01,\n",
    "        'hidden_layers': 2,\n",
    "        'neurons_per_layer': 64,\n",
    "        'activation': 'relu',\n",
    "        'dropout_rate': 0.2,\n",
    "        'optimizer': 'adam',\n",
    "        'epochs': 5\n",
    "    },\n",
    "    {\n",
    "        'name': 'No.3',\n",
    "        'batch_size': 32,\n",
    "        'learning_rate': 0.001,\n",
    "        'hidden_layers': 1,\n",
    "        'neurons_per_layer': 128,\n",
    "        'activation': 'tanh',\n",
    "        'dropout_rate': 0.2,\n",
    "        'optimizer': 'adam',\n",
    "        'epochs': 5\n",
    "    },\n",
    "        {\n",
    "        'name': 'No.4',\n",
    "        'batch_size': 128,\n",
    "        'learning_rate': 0.001,\n",
    "        'hidden_layers': 3,\n",
    "        'neurons_per_layer': 128,\n",
    "        'activation': 'relu',\n",
    "        'dropout_rate': 0.2,\n",
    "        'optimizer': 'adam',\n",
    "        'epochs': 5\n",
    "    },\n",
    "    {\n",
    "        'name': 'No.5',\n",
    "        'batch_size': 64,\n",
    "        'learning_rate': 0.001,\n",
    "        'hidden_layers': 2,\n",
    "        'neurons_per_layer': 64,\n",
    "        'activation': 'relu',\n",
    "        'dropout_rate': 0.3,\n",
    "        'optimizer': 'rmsprop',\n",
    "        'epochs': 5\n",
    "    },\n",
    "]"
   ]
  },
  {
   "cell_type": "markdown",
   "id": "d5fe3deb",
   "metadata": {},
   "source": [
    "# Training and Evaluating Model"
   ]
  },
  {
   "cell_type": "code",
   "execution_count": 25,
   "id": "734bc548",
   "metadata": {},
   "outputs": [
    {
     "name": "stdout",
     "output_type": "stream",
     "text": [
      "\n",
      "Training with configuration: No.1\n",
      "Parameters: {'batch_size': 64, 'learning_rate': 0.001, 'hidden_layers': 1, 'neurons_per_layer': 64, 'activation': 'relu', 'dropout_rate': 0.1, 'optimizer': 'rmsprop', 'epochs': 5}\n",
      "  Run 1/3\n",
      "Epoch 1/5\n",
      "\u001b[1m63/63\u001b[0m \u001b[32m━━━━━━━━━━━━━━━━━━━━\u001b[0m\u001b[37m\u001b[0m \u001b[1m28s\u001b[0m 412ms/step - accuracy: 0.5075 - loss: 0.6925 - val_accuracy: 0.4980 - val_loss: 0.7490\n",
      "Epoch 2/5\n",
      "\u001b[1m63/63\u001b[0m \u001b[32m━━━━━━━━━━━━━━━━━━━━\u001b[0m\u001b[37m\u001b[0m \u001b[1m26s\u001b[0m 418ms/step - accuracy: 0.6750 - loss: 0.6270 - val_accuracy: 0.7700 - val_loss: 0.5020\n",
      "Epoch 3/5\n",
      "\u001b[1m63/63\u001b[0m \u001b[32m━━━━━━━━━━━━━━━━━━━━\u001b[0m\u001b[37m\u001b[0m \u001b[1m26s\u001b[0m 407ms/step - accuracy: 0.7996 - loss: 0.4643 - val_accuracy: 0.8070 - val_loss: 0.4388\n",
      "Epoch 4/5\n",
      "\u001b[1m63/63\u001b[0m \u001b[32m━━━━━━━━━━━━━━━━━━━━\u001b[0m\u001b[37m\u001b[0m \u001b[1m26s\u001b[0m 408ms/step - accuracy: 0.8591 - loss: 0.3458 - val_accuracy: 0.8040 - val_loss: 0.4438\n",
      "Epoch 5/5\n",
      "\u001b[1m63/63\u001b[0m \u001b[32m━━━━━━━━━━━━━━━━━━━━\u001b[0m\u001b[37m\u001b[0m \u001b[1m26s\u001b[0m 414ms/step - accuracy: 0.8740 - loss: 0.3163 - val_accuracy: 0.8050 - val_loss: 0.4420\n",
      "    Test accuracy: 0.8084\n",
      "  Run 2/3\n",
      "Epoch 1/5\n",
      "\u001b[1m63/63\u001b[0m \u001b[32m━━━━━━━━━━━━━━━━━━━━\u001b[0m\u001b[37m\u001b[0m \u001b[1m29s\u001b[0m 423ms/step - accuracy: 0.4959 - loss: 0.6937 - val_accuracy: 0.5210 - val_loss: 0.6874\n",
      "Epoch 2/5\n",
      "\u001b[1m63/63\u001b[0m \u001b[32m━━━━━━━━━━━━━━━━━━━━\u001b[0m\u001b[37m\u001b[0m \u001b[1m27s\u001b[0m 434ms/step - accuracy: 0.6124 - loss: 0.6630 - val_accuracy: 0.7480 - val_loss: 0.5194\n",
      "Epoch 3/5\n",
      "\u001b[1m63/63\u001b[0m \u001b[32m━━━━━━━━━━━━━━━━━━━━\u001b[0m\u001b[37m\u001b[0m \u001b[1m26s\u001b[0m 412ms/step - accuracy: 0.7692 - loss: 0.4978 - val_accuracy: 0.8130 - val_loss: 0.4221\n",
      "Epoch 4/5\n",
      "\u001b[1m63/63\u001b[0m \u001b[32m━━━━━━━━━━━━━━━━━━━━\u001b[0m\u001b[37m\u001b[0m \u001b[1m26s\u001b[0m 409ms/step - accuracy: 0.8564 - loss: 0.3648 - val_accuracy: 0.8030 - val_loss: 0.4412\n",
      "Epoch 5/5\n",
      "\u001b[1m63/63\u001b[0m \u001b[32m━━━━━━━━━━━━━━━━━━━━\u001b[0m\u001b[37m\u001b[0m \u001b[1m47s\u001b[0m 746ms/step - accuracy: 0.8723 - loss: 0.3188 - val_accuracy: 0.8260 - val_loss: 0.4119\n",
      "    Test accuracy: 0.8182\n",
      "  Run 3/3\n",
      "Epoch 1/5\n",
      "\u001b[1m63/63\u001b[0m \u001b[32m━━━━━━━━━━━━━━━━━━━━\u001b[0m\u001b[37m\u001b[0m \u001b[1m64s\u001b[0m 952ms/step - accuracy: 0.5117 - loss: 0.6926 - val_accuracy: 0.5770 - val_loss: 0.6678\n",
      "Epoch 2/5\n",
      "\u001b[1m63/63\u001b[0m \u001b[32m━━━━━━━━━━━━━━━━━━━━\u001b[0m\u001b[37m\u001b[0m \u001b[1m60s\u001b[0m 948ms/step - accuracy: 0.6835 - loss: 0.6205 - val_accuracy: 0.7390 - val_loss: 0.5267\n",
      "Epoch 3/5\n",
      "\u001b[1m63/63\u001b[0m \u001b[32m━━━━━━━━━━━━━━━━━━━━\u001b[0m\u001b[37m\u001b[0m \u001b[1m39s\u001b[0m 619ms/step - accuracy: 0.7986 - loss: 0.4534 - val_accuracy: 0.7900 - val_loss: 0.4640\n",
      "Epoch 4/5\n",
      "\u001b[1m63/63\u001b[0m \u001b[32m━━━━━━━━━━━━━━━━━━━━\u001b[0m\u001b[37m\u001b[0m \u001b[1m25s\u001b[0m 404ms/step - accuracy: 0.8354 - loss: 0.3842 - val_accuracy: 0.8070 - val_loss: 0.4381\n",
      "Epoch 5/5\n",
      "\u001b[1m63/63\u001b[0m \u001b[32m━━━━━━━━━━━━━━━━━━━━\u001b[0m\u001b[37m\u001b[0m \u001b[1m26s\u001b[0m 411ms/step - accuracy: 0.8745 - loss: 0.3167 - val_accuracy: 0.7470 - val_loss: 0.5893\n",
      "    Test accuracy: 0.8122\n",
      "  Mean accuracy: 0.8129\n",
      "  Standard deviation: 0.0040\n",
      "\n",
      "Training with configuration: No.2\n",
      "Parameters: {'batch_size': 128, 'learning_rate': 0.01, 'hidden_layers': 2, 'neurons_per_layer': 64, 'activation': 'relu', 'dropout_rate': 0.2, 'optimizer': 'adam', 'epochs': 5}\n",
      "  Run 1/3\n",
      "Epoch 1/5\n",
      "\u001b[1m32/32\u001b[0m \u001b[32m━━━━━━━━━━━━━━━━━━━━\u001b[0m\u001b[37m\u001b[0m \u001b[1m281s\u001b[0m 9s/step - accuracy: 0.5699 - loss: 0.6795 - val_accuracy: 0.7370 - val_loss: 0.5578\n",
      "Epoch 2/5\n",
      "\u001b[1m32/32\u001b[0m \u001b[32m━━━━━━━━━━━━━━━━━━━━\u001b[0m\u001b[37m\u001b[0m \u001b[1m325s\u001b[0m 10s/step - accuracy: 0.8461 - loss: 0.3895 - val_accuracy: 0.7670 - val_loss: 0.6154\n",
      "Epoch 3/5\n",
      "\u001b[1m32/32\u001b[0m \u001b[32m━━━━━━━━━━━━━━━━━━━━\u001b[0m\u001b[37m\u001b[0m \u001b[1m234s\u001b[0m 7s/step - accuracy: 0.9082 - loss: 0.2415 - val_accuracy: 0.7390 - val_loss: 0.6421\n",
      "Epoch 4/5\n",
      "\u001b[1m32/32\u001b[0m \u001b[32m━━━━━━━━━━━━━━━━━━━━\u001b[0m\u001b[37m\u001b[0m \u001b[1m367s\u001b[0m 12s/step - accuracy: 0.9451 - loss: 0.1557 - val_accuracy: 0.7800 - val_loss: 0.6118\n",
      "Epoch 5/5\n",
      "\u001b[1m32/32\u001b[0m \u001b[32m━━━━━━━━━━━━━━━━━━━━\u001b[0m\u001b[37m\u001b[0m \u001b[1m421s\u001b[0m 13s/step - accuracy: 0.9728 - loss: 0.0907 - val_accuracy: 0.7750 - val_loss: 0.7818\n",
      "    Test accuracy: 0.7994\n",
      "  Run 2/3\n",
      "Epoch 1/5\n",
      "\u001b[1m32/32\u001b[0m \u001b[32m━━━━━━━━━━━━━━━━━━━━\u001b[0m\u001b[37m\u001b[0m \u001b[1m405s\u001b[0m 12s/step - accuracy: 0.5562 - loss: 0.6952 - val_accuracy: 0.7260 - val_loss: 0.5558\n",
      "Epoch 2/5\n",
      "\u001b[1m32/32\u001b[0m \u001b[32m━━━━━━━━━━━━━━━━━━━━\u001b[0m\u001b[37m\u001b[0m \u001b[1m328s\u001b[0m 10s/step - accuracy: 0.8225 - loss: 0.4363 - val_accuracy: 0.7180 - val_loss: 0.5508\n",
      "Epoch 3/5\n",
      "\u001b[1m32/32\u001b[0m \u001b[32m━━━━━━━━━━━━━━━━━━━━\u001b[0m\u001b[37m\u001b[0m \u001b[1m362s\u001b[0m 10s/step - accuracy: 0.8902 - loss: 0.2937 - val_accuracy: 0.7030 - val_loss: 0.5991\n",
      "    Test accuracy: 0.7216\n",
      "  Run 3/3\n",
      "Epoch 1/5\n",
      "\u001b[1m32/32\u001b[0m \u001b[32m━━━━━━━━━━━━━━━━━━━━\u001b[0m\u001b[37m\u001b[0m \u001b[1m367s\u001b[0m 11s/step - accuracy: 0.5715 - loss: 0.6822 - val_accuracy: 0.6740 - val_loss: 0.5986\n",
      "Epoch 2/5\n",
      "\u001b[1m32/32\u001b[0m \u001b[32m━━━━━━━━━━━━━━━━━━━━\u001b[0m\u001b[37m\u001b[0m \u001b[1m456s\u001b[0m 14s/step - accuracy: 0.7976 - loss: 0.4467 - val_accuracy: 0.7740 - val_loss: 0.5577\n",
      "Epoch 3/5\n",
      "\u001b[1m32/32\u001b[0m \u001b[32m━━━━━━━━━━━━━━━━━━━━\u001b[0m\u001b[37m\u001b[0m \u001b[1m411s\u001b[0m 13s/step - accuracy: 0.8749 - loss: 0.3115 - val_accuracy: 0.6610 - val_loss: 0.6889\n",
      "Epoch 4/5\n",
      "\u001b[1m32/32\u001b[0m \u001b[32m━━━━━━━━━━━━━━━━━━━━\u001b[0m\u001b[37m\u001b[0m \u001b[1m409s\u001b[0m 12s/step - accuracy: 0.8590 - loss: 0.3680 - val_accuracy: 0.7590 - val_loss: 0.6021\n",
      "    Test accuracy: 0.7708\n",
      "  Mean accuracy: 0.7639\n",
      "  Standard deviation: 0.0321\n",
      "\n",
      "Training with configuration: No.3\n",
      "Parameters: {'batch_size': 32, 'learning_rate': 0.001, 'hidden_layers': 1, 'neurons_per_layer': 128, 'activation': 'tanh', 'dropout_rate': 0.2, 'optimizer': 'adam', 'epochs': 5}\n",
      "  Run 1/3\n",
      "Epoch 1/5\n",
      "\u001b[1m125/125\u001b[0m \u001b[32m━━━━━━━━━━━━━━━━━━━━\u001b[0m\u001b[37m\u001b[0m \u001b[1m57s\u001b[0m 432ms/step - accuracy: 0.5752 - loss: 0.6643 - val_accuracy: 0.6960 - val_loss: 0.5726\n",
      "Epoch 2/5\n",
      "\u001b[1m125/125\u001b[0m \u001b[32m━━━━━━━━━━━━━━━━━━━━\u001b[0m\u001b[37m\u001b[0m \u001b[1m53s\u001b[0m 422ms/step - accuracy: 0.8156 - loss: 0.4245 - val_accuracy: 0.8140 - val_loss: 0.4351\n",
      "Epoch 3/5\n",
      "\u001b[1m125/125\u001b[0m \u001b[32m━━━━━━━━━━━━━━━━━━━━\u001b[0m\u001b[37m\u001b[0m \u001b[1m57s\u001b[0m 457ms/step - accuracy: 0.9276 - loss: 0.2057 - val_accuracy: 0.7780 - val_loss: 0.4825\n",
      "Epoch 4/5\n",
      "\u001b[1m125/125\u001b[0m \u001b[32m━━━━━━━━━━━━━━━━━━━━\u001b[0m\u001b[37m\u001b[0m \u001b[1m122s\u001b[0m 973ms/step - accuracy: 0.9482 - loss: 0.1545 - val_accuracy: 0.8260 - val_loss: 0.5194\n",
      "Epoch 5/5\n",
      "\u001b[1m125/125\u001b[0m \u001b[32m━━━━━━━━━━━━━━━━━━━━\u001b[0m\u001b[37m\u001b[0m \u001b[1m52s\u001b[0m 417ms/step - accuracy: 0.9584 - loss: 0.1368 - val_accuracy: 0.7930 - val_loss: 0.7726\n",
      "    Test accuracy: 0.8206\n",
      "  Run 2/3\n",
      "Epoch 1/5\n",
      "\u001b[1m125/125\u001b[0m \u001b[32m━━━━━━━━━━━━━━━━━━━━\u001b[0m\u001b[37m\u001b[0m \u001b[1m55s\u001b[0m 422ms/step - accuracy: 0.5418 - loss: 0.6740 - val_accuracy: 0.7510 - val_loss: 0.4969\n",
      "Epoch 2/5\n",
      "\u001b[1m125/125\u001b[0m \u001b[32m━━━━━━━━━━━━━━━━━━━━\u001b[0m\u001b[37m\u001b[0m \u001b[1m69s\u001b[0m 552ms/step - accuracy: 0.8408 - loss: 0.3688 - val_accuracy: 0.7820 - val_loss: 0.4704\n",
      "Epoch 3/5\n",
      "\u001b[1m125/125\u001b[0m \u001b[32m━━━━━━━━━━━━━━━━━━━━\u001b[0m\u001b[37m\u001b[0m \u001b[1m114s\u001b[0m 808ms/step - accuracy: 0.9184 - loss: 0.2283 - val_accuracy: 0.8140 - val_loss: 0.4991\n",
      "Epoch 4/5\n",
      "\u001b[1m125/125\u001b[0m \u001b[32m━━━━━━━━━━━━━━━━━━━━\u001b[0m\u001b[37m\u001b[0m \u001b[1m127s\u001b[0m 690ms/step - accuracy: 0.9582 - loss: 0.1232 - val_accuracy: 0.8130 - val_loss: 0.5107\n",
      "Epoch 5/5\n",
      "\u001b[1m125/125\u001b[0m \u001b[32m━━━━━━━━━━━━━━━━━━━━\u001b[0m\u001b[37m\u001b[0m \u001b[1m84s\u001b[0m 676ms/step - accuracy: 0.9669 - loss: 0.1073 - val_accuracy: 0.7690 - val_loss: 0.6244\n",
      "    Test accuracy: 0.8174\n",
      "  Run 3/3\n",
      "Epoch 1/5\n",
      "\u001b[1m125/125\u001b[0m \u001b[32m━━━━━━━━━━━━━━━━━━━━\u001b[0m\u001b[37m\u001b[0m \u001b[1m54s\u001b[0m 411ms/step - accuracy: 0.5796 - loss: 0.6723 - val_accuracy: 0.7640 - val_loss: 0.4866\n",
      "Epoch 2/5\n",
      "\u001b[1m125/125\u001b[0m \u001b[32m━━━━━━━━━━━━━━━━━━━━\u001b[0m\u001b[37m\u001b[0m \u001b[1m51s\u001b[0m 409ms/step - accuracy: 0.8347 - loss: 0.3752 - val_accuracy: 0.7280 - val_loss: 0.5223\n",
      "Epoch 3/5\n",
      "\u001b[1m125/125\u001b[0m \u001b[32m━━━━━━━━━━━━━━━━━━━━\u001b[0m\u001b[37m\u001b[0m \u001b[1m51s\u001b[0m 410ms/step - accuracy: 0.9146 - loss: 0.2567 - val_accuracy: 0.8000 - val_loss: 0.4829\n",
      "Epoch 4/5\n",
      "\u001b[1m125/125\u001b[0m \u001b[32m━━━━━━━━━━━━━━━━━━━━\u001b[0m\u001b[37m\u001b[0m \u001b[1m50s\u001b[0m 404ms/step - accuracy: 0.9432 - loss: 0.1581 - val_accuracy: 0.8110 - val_loss: 0.5349\n",
      "Epoch 5/5\n",
      "\u001b[1m125/125\u001b[0m \u001b[32m━━━━━━━━━━━━━━━━━━━━\u001b[0m\u001b[37m\u001b[0m \u001b[1m50s\u001b[0m 404ms/step - accuracy: 0.9716 - loss: 0.0841 - val_accuracy: 0.7900 - val_loss: 0.6057\n",
      "    Test accuracy: 0.8100\n",
      "  Mean accuracy: 0.8160\n",
      "  Standard deviation: 0.0044\n",
      "\n",
      "Training with configuration: No.4\n",
      "Parameters: {'batch_size': 128, 'learning_rate': 0.001, 'hidden_layers': 3, 'neurons_per_layer': 128, 'activation': 'relu', 'dropout_rate': 0.2, 'optimizer': 'adam', 'epochs': 5}\n",
      "  Run 1/3\n",
      "Epoch 1/5\n",
      "\u001b[1m32/32\u001b[0m \u001b[32m━━━━━━━━━━━━━━━━━━━━\u001b[0m\u001b[37m\u001b[0m \u001b[1m479s\u001b[0m 15s/step - accuracy: 0.5580 - loss: 0.6758 - val_accuracy: 0.7160 - val_loss: 0.5535\n",
      "Epoch 2/5\n",
      "\u001b[1m32/32\u001b[0m \u001b[32m━━━━━━━━━━━━━━━━━━━━\u001b[0m\u001b[37m\u001b[0m \u001b[1m683s\u001b[0m 21s/step - accuracy: 0.8408 - loss: 0.3738 - val_accuracy: 0.7980 - val_loss: 0.4439\n",
      "Epoch 3/5\n",
      "\u001b[1m32/32\u001b[0m \u001b[32m━━━━━━━━━━━━━━━━━━━━\u001b[0m\u001b[37m\u001b[0m \u001b[1m534s\u001b[0m 17s/step - accuracy: 0.9329 - loss: 0.1879 - val_accuracy: 0.7660 - val_loss: 0.6953\n",
      "Epoch 4/5\n",
      "\u001b[1m32/32\u001b[0m \u001b[32m━━━━━━━━━━━━━━━━━━━━\u001b[0m\u001b[37m\u001b[0m \u001b[1m551s\u001b[0m 17s/step - accuracy: 0.9621 - loss: 0.1155 - val_accuracy: 0.7940 - val_loss: 0.5449\n",
      "    Test accuracy: 0.8034\n",
      "  Run 2/3\n",
      "Epoch 1/5\n",
      "\u001b[1m32/32\u001b[0m \u001b[32m━━━━━━━━━━━━━━━━━━━━\u001b[0m\u001b[37m\u001b[0m \u001b[1m562s\u001b[0m 17s/step - accuracy: 0.5428 - loss: 0.6860 - val_accuracy: 0.7210 - val_loss: 0.5579\n",
      "Epoch 2/5\n",
      "\u001b[1m32/32\u001b[0m \u001b[32m━━━━━━━━━━━━━━━━━━━━\u001b[0m\u001b[37m\u001b[0m \u001b[1m574s\u001b[0m 18s/step - accuracy: 0.8071 - loss: 0.4373 - val_accuracy: 0.7660 - val_loss: 0.5251\n",
      "Epoch 3/5\n",
      "\u001b[1m32/32\u001b[0m \u001b[32m━━━━━━━━━━━━━━━━━━━━\u001b[0m\u001b[37m\u001b[0m \u001b[1m891s\u001b[0m 28s/step - accuracy: 0.9134 - loss: 0.2318 - val_accuracy: 0.7980 - val_loss: 0.4934\n",
      "Epoch 4/5\n",
      "\u001b[1m32/32\u001b[0m \u001b[32m━━━━━━━━━━━━━━━━━━━━\u001b[0m\u001b[37m\u001b[0m \u001b[1m610s\u001b[0m 19s/step - accuracy: 0.9626 - loss: 0.1249 - val_accuracy: 0.8040 - val_loss: 0.5316\n",
      "Epoch 5/5\n",
      "\u001b[1m32/32\u001b[0m \u001b[32m━━━━━━━━━━━━━━━━━━━━\u001b[0m\u001b[37m\u001b[0m \u001b[1m611s\u001b[0m 19s/step - accuracy: 0.9846 - loss: 0.0677 - val_accuracy: 0.7930 - val_loss: 0.6950\n",
      "    Test accuracy: 0.8066\n",
      "  Run 3/3\n",
      "Epoch 1/5\n",
      "\u001b[1m32/32\u001b[0m \u001b[32m━━━━━━━━━━━━━━━━━━━━\u001b[0m\u001b[37m\u001b[0m \u001b[1m672s\u001b[0m 20s/step - accuracy: 0.5574 - loss: 0.6627 - val_accuracy: 0.7660 - val_loss: 0.6611\n",
      "Epoch 2/5\n",
      "\u001b[1m32/32\u001b[0m \u001b[32m━━━━━━━━━━━━━━━━━━━━\u001b[0m\u001b[37m\u001b[0m \u001b[1m825s\u001b[0m 26s/step - accuracy: 0.6873 - loss: 0.6828 - val_accuracy: 0.7340 - val_loss: 0.5743\n",
      "Epoch 3/5\n",
      "\u001b[1m32/32\u001b[0m \u001b[32m━━━━━━━━━━━━━━━━━━━━\u001b[0m\u001b[37m\u001b[0m \u001b[1m599s\u001b[0m 19s/step - accuracy: 0.8869 - loss: 0.2929 - val_accuracy: 0.7050 - val_loss: 0.5990\n",
      "    Test accuracy: 0.7536\n",
      "  Mean accuracy: 0.7879\n",
      "  Standard deviation: 0.0243\n",
      "\n",
      "Training with configuration: No.5\n",
      "Parameters: {'batch_size': 64, 'learning_rate': 0.001, 'hidden_layers': 2, 'neurons_per_layer': 64, 'activation': 'relu', 'dropout_rate': 0.3, 'optimizer': 'rmsprop', 'epochs': 5}\n",
      "  Run 1/3\n",
      "Epoch 1/5\n",
      "\u001b[1m63/63\u001b[0m \u001b[32m━━━━━━━━━━━━━━━━━━━━\u001b[0m\u001b[37m\u001b[0m \u001b[1m93s\u001b[0m 1s/step - accuracy: 0.5222 - loss: 0.6924 - val_accuracy: 0.6090 - val_loss: 0.6856\n",
      "Epoch 2/5\n",
      "\u001b[1m63/63\u001b[0m \u001b[32m━━━━━━━━━━━━━━━━━━━━\u001b[0m\u001b[37m\u001b[0m \u001b[1m90s\u001b[0m 1s/step - accuracy: 0.6392 - loss: 0.6453 - val_accuracy: 0.7790 - val_loss: 0.4748\n",
      "Epoch 3/5\n",
      "\u001b[1m63/63\u001b[0m \u001b[32m━━━━━━━━━━━━━━━━━━━━\u001b[0m\u001b[37m\u001b[0m \u001b[1m90s\u001b[0m 1s/step - accuracy: 0.8061 - loss: 0.4343 - val_accuracy: 0.7820 - val_loss: 0.4701\n",
      "Epoch 4/5\n",
      "\u001b[1m63/63\u001b[0m \u001b[32m━━━━━━━━━━━━━━━━━━━━\u001b[0m\u001b[37m\u001b[0m \u001b[1m139s\u001b[0m 2s/step - accuracy: 0.8586 - loss: 0.3464 - val_accuracy: 0.7910 - val_loss: 0.4642\n",
      "Epoch 5/5\n",
      "\u001b[1m63/63\u001b[0m \u001b[32m━━━━━━━━━━━━━━━━━━━━\u001b[0m\u001b[37m\u001b[0m \u001b[1m108s\u001b[0m 2s/step - accuracy: 0.9141 - loss: 0.2406 - val_accuracy: 0.7960 - val_loss: 0.5633\n",
      "    Test accuracy: 0.8102\n",
      "  Run 2/3\n",
      "Epoch 1/5\n",
      "\u001b[1m63/63\u001b[0m \u001b[32m━━━━━━━━━━━━━━━━━━━━\u001b[0m\u001b[37m\u001b[0m \u001b[1m175s\u001b[0m 3s/step - accuracy: 0.5236 - loss: 0.6933 - val_accuracy: 0.6180 - val_loss: 0.6874\n",
      "Epoch 2/5\n",
      "\u001b[1m63/63\u001b[0m \u001b[32m━━━━━━━━━━━━━━━━━━━━\u001b[0m\u001b[37m\u001b[0m \u001b[1m107s\u001b[0m 2s/step - accuracy: 0.6489 - loss: 0.6501 - val_accuracy: 0.7610 - val_loss: 0.5130\n",
      "Epoch 3/5\n",
      "\u001b[1m63/63\u001b[0m \u001b[32m━━━━━━━━━━━━━━━━━━━━\u001b[0m\u001b[37m\u001b[0m \u001b[1m89s\u001b[0m 1s/step - accuracy: 0.8095 - loss: 0.4497 - val_accuracy: 0.8120 - val_loss: 0.4333\n",
      "Epoch 4/5\n",
      "\u001b[1m63/63\u001b[0m \u001b[32m━━━━━━━━━━━━━━━━━━━━\u001b[0m\u001b[37m\u001b[0m \u001b[1m89s\u001b[0m 1s/step - accuracy: 0.8501 - loss: 0.3560 - val_accuracy: 0.7110 - val_loss: 0.8457\n",
      "Epoch 5/5\n",
      "\u001b[1m63/63\u001b[0m \u001b[32m━━━━━━━━━━━━━━━━━━━━\u001b[0m\u001b[37m\u001b[0m \u001b[1m89s\u001b[0m 1s/step - accuracy: 0.8892 - loss: 0.3089 - val_accuracy: 0.8000 - val_loss: 0.4489\n",
      "    Test accuracy: 0.8218\n",
      "  Run 3/3\n",
      "Epoch 1/5\n",
      "\u001b[1m63/63\u001b[0m \u001b[32m━━━━━━━━━━━━━━━━━━━━\u001b[0m\u001b[37m\u001b[0m \u001b[1m126s\u001b[0m 2s/step - accuracy: 0.5002 - loss: 0.6953 - val_accuracy: 0.5910 - val_loss: 0.6824\n",
      "Epoch 2/5\n",
      "\u001b[1m63/63\u001b[0m \u001b[32m━━━━━━━━━━━━━━━━━━━━\u001b[0m\u001b[37m\u001b[0m \u001b[1m178s\u001b[0m 3s/step - accuracy: 0.6414 - loss: 0.6414 - val_accuracy: 0.7750 - val_loss: 0.4829\n",
      "Epoch 3/5\n",
      "\u001b[1m63/63\u001b[0m \u001b[32m━━━━━━━━━━━━━━━━━━━━\u001b[0m\u001b[37m\u001b[0m \u001b[1m162s\u001b[0m 3s/step - accuracy: 0.8301 - loss: 0.4109 - val_accuracy: 0.7750 - val_loss: 0.4934\n",
      "Epoch 4/5\n",
      "\u001b[1m63/63\u001b[0m \u001b[32m━━━━━━━━━━━━━━━━━━━━\u001b[0m\u001b[37m\u001b[0m \u001b[1m134s\u001b[0m 2s/step - accuracy: 0.8683 - loss: 0.3215 - val_accuracy: 0.7980 - val_loss: 0.4348\n",
      "Epoch 5/5\n",
      "\u001b[1m63/63\u001b[0m \u001b[32m━━━━━━━━━━━━━━━━━━━━\u001b[0m\u001b[37m\u001b[0m \u001b[1m179s\u001b[0m 3s/step - accuracy: 0.9090 - loss: 0.2417 - val_accuracy: 0.8370 - val_loss: 0.4385\n",
      "    Test accuracy: 0.8394\n",
      "  Mean accuracy: 0.8238\n",
      "  Standard deviation: 0.0120\n"
     ]
    }
   ],
   "source": [
    "results = []\n",
    "best_accuracy = 0.0\n",
    "best_model = None\n",
    "best_config = None\n",
    "best_run = None\n",
    "\n",
    "for config in configs:\n",
    "    config_results = []\n",
    "\n",
    "    print(f\"\\nTraining with configuration: {config['name']}\")\n",
    "    print(\"Parameters:\", {k: v for k, v in config.items() if k != 'name'})\n",
    "\n",
    "    # Run 3 times for each configuration\n",
    "    for run in range(3):\n",
    "        print(f\"  Run {run+1}/3\")\n",
    "\n",
    "        # Build model\n",
    "        model = build_model(\n",
    "            hidden_layers=config['hidden_layers'],\n",
    "            neurons_per_layer=config['neurons_per_layer'],\n",
    "            activation=config['activation'],\n",
    "            dropout_rate=config['dropout_rate'],\n",
    "            optimizer=config['optimizer'],\n",
    "            learning_rate=config['learning_rate']\n",
    "        )\n",
    "\n",
    "        # Define early stopping\n",
    "        early_stopping = EarlyStopping(\n",
    "            monitor='val_accuracy',\n",
    "            patience=2,\n",
    "            restore_best_weights=True\n",
    "        )\n",
    "\n",
    "        # Train model\n",
    "        history = model.fit(\n",
    "            X_train, Y_train,\n",
    "            batch_size=config['batch_size'],\n",
    "            epochs=config['epochs'],\n",
    "            validation_split=0.2,\n",
    "            callbacks=[early_stopping],\n",
    "            verbose=1\n",
    "        )\n",
    "\n",
    "        # Evaluate model\n",
    "        _, accuracy = model.evaluate(X_test, Y_test, verbose=0)\n",
    "        config_results.append(accuracy)\n",
    "\n",
    "        print(f\"    Test accuracy: {accuracy:.4f}\")\n",
    "\n",
    "        # Check if this model has the best accuracy\n",
    "        if accuracy > best_accuracy:\n",
    "            best_accuracy = accuracy\n",
    "            best_model = model\n",
    "            best_config = config['name']\n",
    "            best_run = run + 1\n",
    "\n",
    "    # Calculate mean and standard deviation\n",
    "    mean_accuracy = np.mean(config_results)\n",
    "    std_accuracy = np.std(config_results)\n",
    "\n",
    "    print(f\"  Mean accuracy: {mean_accuracy:.4f}\")\n",
    "    print(f\"  Standard deviation: {std_accuracy:.4f}\")\n",
    "\n",
    "    # Store results\n",
    "    results.append({\n",
    "        'config': config['name'],\n",
    "        'accuracies': config_results,\n",
    "        'mean': mean_accuracy,\n",
    "        'std': std_accuracy\n",
    "    })"
   ]
  },
  {
   "cell_type": "markdown",
   "id": "9199dc4f",
   "metadata": {},
   "source": [
    "# Saving Model"
   ]
  },
  {
   "cell_type": "code",
   "execution_count": 26,
   "id": "ec51a6e7",
   "metadata": {},
   "outputs": [
    {
     "name": "stdout",
     "output_type": "stream",
     "text": [
      "\n",
      "Best model saved with accuracy: 0.8394\n",
      "Configuration: No.5, Run: 3\n"
     ]
    }
   ],
   "source": [
    "# Save the best model\n",
    "best_model.save('best_model.keras')\n",
    "print(f\"\\nBest model saved with accuracy: {best_accuracy:.4f}\")\n",
    "print(f\"Configuration: {best_config}, Run: {best_run}\")"
   ]
  }
 ],
 "metadata": {
  "kernelspec": {
   "display_name": "Python 3",
   "language": "python",
   "name": "python3"
  },
  "language_info": {
   "codemirror_mode": {
    "name": "ipython",
    "version": 3
   },
   "file_extension": ".py",
   "mimetype": "text/x-python",
   "name": "python",
   "nbconvert_exporter": "python",
   "pygments_lexer": "ipython3",
   "version": "3.9.8"
  }
 },
 "nbformat": 4,
 "nbformat_minor": 5
}
